{
  "nbformat": 4,
  "nbformat_minor": 0,
  "metadata": {
    "colab": {
      "provenance": [],
      "authorship_tag": "ABX9TyPi4Q/xsX7Bs0Kp6X1OWtcD",
      "include_colab_link": true
    },
    "kernelspec": {
      "name": "python3",
      "display_name": "Python 3"
    },
    "language_info": {
      "name": "python"
    }
  },
  "cells": [
    {
      "cell_type": "markdown",
      "metadata": {
        "id": "view-in-github",
        "colab_type": "text"
      },
      "source": [
        "<a href=\"https://colab.research.google.com/github/vikaspathak0911/Plain-CNN-vs-ResNet-/blob/main/plain_CNN_vs_ResNet.ipynb\" target=\"_parent\"><img src=\"https://colab.research.google.com/assets/colab-badge.svg\" alt=\"Open In Colab\"/></a>"
      ]
    },
    {
      "cell_type": "code",
      "execution_count": 2,
      "metadata": {
        "colab": {
          "base_uri": "https://localhost:8080/"
        },
        "id": "BGcn_ZSiNT_F",
        "outputId": "bde7dee9-8786-4ffd-a503-36c7641fe916"
      },
      "outputs": [
        {
          "output_type": "stream",
          "name": "stdout",
          "text": [
            "dict_keys([b'batch_label', b'labels', b'data', b'filenames'])\n"
          ]
        }
      ],
      "source": [
        "import pickle\n",
        "import numpy as np\n",
        "\n",
        "def unpickle(file):\n",
        "    with open(file, 'rb') as fo:\n",
        "        dict = pickle.load(fo, encoding='bytes')\n",
        "    return dict\n",
        "\n",
        "# Example: Load the first batch\n",
        "batch1 = unpickle(\"cifar-10-batches-py/data_batch_1\")\n",
        "\n",
        "# Explore keys\n",
        "print(batch1.keys())  # b'data', b'labels', b'filenames', ...\n"
      ]
    },
    {
      "cell_type": "code",
      "source": [
        "# Extract data and labels\n",
        "X = batch1[b'data']      # shape (10000, 3072)\n",
        "Y = batch1[b'labels']    # list of labels\n",
        "\n",
        "# Reshape to (num_images, 32, 32, 3)\n",
        "X = X.reshape(-1, 3, 32, 32)  # (10000, 3, 32, 32)\n",
        "X = X.transpose(0, 2, 3, 1)   # convert to (10000, 32, 32, 3)\n",
        "\n",
        "print(\"Image shape:\", X[0].shape)  # (32, 32, 3)\n"
      ],
      "metadata": {
        "colab": {
          "base_uri": "https://localhost:8080/"
        },
        "id": "cFNa6KdsOvLQ",
        "outputId": "f7aec015-1bf9-4154-ceec-0f097611782e"
      },
      "execution_count": 3,
      "outputs": [
        {
          "output_type": "stream",
          "name": "stdout",
          "text": [
            "Image shape: (32, 32, 3)\n"
          ]
        }
      ]
    },
    {
      "cell_type": "code",
      "source": [
        "import matplotlib.pyplot as plt\n",
        "\n",
        "# Show first image\n",
        "plt.imshow(X[0])\n",
        "plt.title(f\"Label: {Y[0]}\")\n",
        "plt.show()\n"
      ],
      "metadata": {
        "colab": {
          "base_uri": "https://localhost:8080/",
          "height": 452
        },
        "id": "pV56M88UPFb9",
        "outputId": "c7ac07d2-e1b2-4dc4-aec1-d1713b4e1240"
      },
      "execution_count": 4,
      "outputs": [
        {
          "output_type": "display_data",
          "data": {
            "text/plain": [
              "<Figure size 640x480 with 1 Axes>"
            ],
            "image/png": "[encoded data removed]"
          },
          "metadata": {}
        }
      ]
    },
    {
      "cell_type": "code",
      "source": [
        "import numpy as np\n",
        "\n",
        "X_train, Y_train = [], []\n",
        "\n",
        "for i in range(1, 6):\n",
        "    batch = unpickle(f\"cifar-10-batches-py/data_batch_{i}\")\n",
        "    X = batch[b'data']\n",
        "    Y = batch[b'labels']\n",
        "\n",
        "    X = X.reshape(-1, 3, 32, 32).transpose(0, 2, 3, 1)\n",
        "\n",
        "    X_train.append(X)\n",
        "    Y_train.extend(Y)\n",
        "\n",
        "X_train = np.concatenate(X_train)\n",
        "Y_train = np.array(Y_train)\n",
        "\n",
        "# Load test set\n",
        "test_batch = unpickle(\"cifar-10-batches-py/test_batch\")\n",
        "X_test = test_batch[b'data'].reshape(-1, 3, 32, 32).transpose(0, 2, 3, 1)\n",
        "Y_test = np.array(test_batch[b'labels'])\n",
        "\n",
        "print(\"Training set:\", X_train.shape, Y_train.shape)\n",
        "print(\"Test set:\", X_test.shape, Y_test.shape)\n"
      ],
      "metadata": {
        "colab": {
          "base_uri": "https://localhost:8080/"
        },
        "id": "zv6geMAZOvN2",
        "outputId": "66f20dd3-a3f3-4e77-f866-81530547a962"
      },
      "execution_count": 5,
      "outputs": [
        {
          "output_type": "stream",
          "name": "stdout",
          "text": [
            "Training set: (50000, 32, 32, 3) (50000,)\n",
            "Test set: (10000, 32, 32, 3) (10000,)\n"
          ]
        }
      ]
    },
    {
      "cell_type": "code",
      "source": [
        "import torch\n",
        "from torch.utils.data import Dataset, DataLoader\n",
        "import torchvision.transforms as transforms\n",
        "\n",
        "# Define transformations (augmentation + normalization)\n",
        "transform_train = transforms.Compose([\n",
        "    transforms.ToPILImage(),                # convert numpy → PIL\n",
        "    transforms.RandomCrop(32, padding=4),   # data augmentation\n",
        "    transforms.RandomHorizontalFlip(),\n",
        "    transforms.ToTensor(),                  # convert PIL → tensor [0,1]\n",
        "    transforms.Normalize((0.4914, 0.4822, 0.4465),\n",
        "                         (0.2023, 0.1994, 0.2010))\n",
        "])\n",
        "\n",
        "transform_test = transforms.Compose([\n",
        "    transforms.ToPILImage(),\n",
        "    transforms.ToTensor(),\n",
        "    transforms.Normalize((0.4914, 0.4822, 0.4465),\n",
        "                         (0.2023, 0.1994, 0.2010))\n",
        "])\n",
        "\n",
        "# Custom Dataset for CIFAR-10\n",
        "class CIFARDataset(Dataset):\n",
        "    def __init__(self, images, labels, transform=None):\n",
        "        self.images = images\n",
        "        self.labels = labels\n",
        "        self.transform = transform\n",
        "\n",
        "    def __len__(self):\n",
        "        return len(self.images)\n",
        "\n",
        "    def __getitem__(self, idx):\n",
        "        img = self.images[idx]\n",
        "        label = self.labels[idx]\n",
        "\n",
        "        if self.transform:\n",
        "            img = self.transform(img)\n",
        "\n",
        "        return img, label\n",
        "\n",
        "# Create datasets\n",
        "train_dataset = CIFARDataset(X_train, Y_train, transform=transform_train)\n",
        "test_dataset = CIFARDataset(X_test, Y_test, transform=transform_test)\n",
        "\n",
        "# Create dataloaders\n",
        "train_loader = DataLoader(train_dataset, batch_size=128, shuffle=True, num_workers=2)\n",
        "test_loader = DataLoader(test_dataset, batch_size=100, shuffle=False, num_workers=2)\n",
        "\n",
        "# Check one batch\n",
        "images, labels = next(iter(train_loader))\n",
        "print(\"Batch shape:\", images.shape)  # (128, 3, 32, 32)\n",
        "print(\"Labels:\", labels[:10])\n"
      ],
      "metadata": {
        "colab": {
          "base_uri": "https://localhost:8080/"
        },
        "id": "ui_wDMk8OvSB",
        "outputId": "b56d8ae5-c1df-4ad2-f3b5-28ce59491398"
      },
      "execution_count": 6,
      "outputs": [
        {
          "output_type": "stream",
          "name": "stdout",
          "text": [
            "Batch shape: torch.Size([128, 3, 32, 32])\n",
            "Labels: tensor([7, 7, 4, 5, 4, 6, 4, 0, 0, 6])\n"
          ]
        }
      ]
    },
    {
      "cell_type": "code",
      "source": [],
      "metadata": {
        "id": "KcYxC3EWJ6qV"
      },
      "execution_count": 6,
      "outputs": []
    },
    {
      "cell_type": "code",
      "source": [],
      "metadata": {
        "id": "6uvPRqIkJ6tY"
      },
      "execution_count": 6,
      "outputs": []
    },
    {
      "cell_type": "code",
      "source": [],
      "metadata": {
        "id": "85VgAabdJ6wx"
      },
      "execution_count": 6,
      "outputs": []
    }
  ]
}
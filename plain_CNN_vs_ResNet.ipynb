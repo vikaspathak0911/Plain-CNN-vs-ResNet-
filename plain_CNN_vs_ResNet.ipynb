{
  "nbformat": 4,
  "nbformat_minor": 0,
  "metadata": {
    "colab": {
      "provenance": [],
      "gpuType": "T4",
      "authorship_tag": "ABX9TyOUyk29wVfkMXPb5GrXVLow",
      "include_colab_link": true
    },
    "kernelspec": {
      "name": "python3",
      "display_name": "Python 3"
    },
    "language_info": {
      "name": "python"
    },
    "accelerator": "GPU"
  },
  "cells": [
    {
      "cell_type": "markdown",
      "metadata": {
        "id": "view-in-github",
        "colab_type": "text"
      },
      "source": [
        "<a href=\"https://colab.research.google.com/github/vikaspathak0911/Plain-CNN-vs-ResNet-/blob/main/plain_CNN_vs_ResNet.ipynb\" target=\"_parent\"><img src=\"https://colab.research.google.com/assets/colab-badge.svg\" alt=\"Open In Colab\"/></a>"
      ]
    },
    {
      "cell_type": "code",
      "source": [
        "file = \"/content/cifar-10-python.tar.gz\"\n",
        "# Path to the CIFAR-10 dataset tarball that was downloaded.\n",
        "# CIFAR-10 is provided as a compressed `.tar.gz` archive containing pickled batches.\n",
        "\n",
        "# Extract to /content/cifar-10-batches-py\n",
        "with tarfile.open(file, \"r:gz\") as tar:\n",
        "    # Open the tar.gz file in read mode (\"r:gz\" → read + gzip compressed).\n",
        "\n",
        "    tar.extractall(path=\"/content\")\n",
        "    # Extract all the contents into /content directory.\n",
        "    # This will create a folder `/content/cifar-10-batches-py`\n",
        "    # containing data files like:\n",
        "    #   - data_batch_1, data_batch_2, ..., data_batch_5  (training data)\n",
        "    #   - test_batch  (testing data)\n",
        "    #   - batches.meta (metadata about labels)\n",
        "\n",
        "    # Why this step is important:\n",
        "    # CIFAR-10 is not directly in image format here.\n",
        "    # It's stored as serialized Python objects (pickled dictionaries).\n",
        "    # We need to extract these first before we can load them into NumPy arrays\n",
        "    # or feed them into a CNN/ResNet model.\n"
      ],
      "metadata": {
        "colab": {
          "base_uri": "https://localhost:8080/"
        },
        "id": "iHhZyAjL0VmO",
        "outputId": "af0b4bf9-b1bc-4c2c-996a-744389db8385"
      },
      "execution_count": 36,
      "outputs": [
        {
          "output_type": "stream",
          "name": "stderr",
          "text": [
            "/tmp/ipython-input-2677686743.py:9: DeprecationWarning: Python 3.14 will, by default, filter extracted tar archives and reject files or modify their metadata. Use the filter argument to control this behavior.\n",
            "  tar.extractall(path=\"/content\")\n"
          ]
        }
      ]
    },
    {
      "cell_type": "code",
      "source": [
        "import os  # For interacting with the file system (listing directories, paths, etc.)\n",
        "\n",
        "print(os.listdir(\"/content/cifar-10-batches-py\"))\n",
        "# os.listdir() lists all files inside the extracted CIFAR-10 directory.\n",
        "# Expected output:\n",
        "#   ['data_batch_1', 'data_batch_2', ..., 'data_batch_5',\n",
        "#    'test_batch', 'batches.meta']\n",
        "#\n",
        "# - data_batch_1 to data_batch_5 → Training data (each batch has 10,000 images).\n",
        "# - test_batch → Test data (10,000 images).\n",
        "# - batches.meta → Metadata (e.g., label names like \"airplane\", \"cat\", etc.).\n",
        "#\n",
        "# Why this step is important:\n",
        "# We confirm that extraction worked correctly and the dataset files\n",
        "# are available before attempting to load and preprocess them.\n"
      ],
      "metadata": {
        "colab": {
          "base_uri": "https://localhost:8080/"
        },
        "id": "3sylnF_G0bdc",
        "outputId": "7065ea60-048a-4700-f73d-6247033f650f"
      },
      "execution_count": 37,
      "outputs": [
        {
          "output_type": "stream",
          "name": "stdout",
          "text": [
            "['data_batch_1', 'batches.meta', 'data_batch_3', 'data_batch_4', 'test_batch', 'readme.html', 'data_batch_5', 'data_batch_2']\n"
          ]
        }
      ]
    },
    {
      "cell_type": "code",
      "execution_count": 38,
      "metadata": {
        "colab": {
          "base_uri": "https://localhost:8080/"
        },
        "id": "BGcn_ZSiNT_F",
        "outputId": "c07faee9-923c-41fc-be5b-2259386fab43"
      },
      "outputs": [
        {
          "output_type": "stream",
          "name": "stdout",
          "text": [
            "dict_keys([b'batch_label', b'labels', b'data', b'filenames'])\n"
          ]
        }
      ],
      "source": [
        "import pickle   # For loading the CIFAR-10 batches (stored as Python pickled dictionaries)\n",
        "import numpy as np  # For numerical operations (reshaping, normalizing, etc.)\n",
        "\n",
        "def unpickle(file):\n",
        "    \"\"\"\n",
        "    Load a CIFAR-10 batch file.\n",
        "\n",
        "    Args:\n",
        "        file (str): Path to the batch file.\n",
        "\n",
        "    Returns:\n",
        "        dict: A dictionary containing the data, labels, and filenames.\n",
        "    \"\"\"\n",
        "    with open(file, 'rb') as fo:\n",
        "        dict = pickle.load(fo, encoding='bytes')\n",
        "        # Each CIFAR-10 file is a pickled Python dict with byte-string keys.\n",
        "    return dict\n",
        "\n",
        "# Example: Load the first batch of CIFAR-10 training data\n",
        "batch1 = unpickle(\"cifar-10-batches-py/data_batch_1\")\n",
        "\n",
        "# Inspect the keys in the loaded dictionary\n",
        "print(batch1.keys())\n",
        "# Expected keys:\n",
        "#   b'data'      → Image data (10000 samples, each a flattened 3072-dim vector: 32x32x3).\n",
        "#   b'labels'    → List of numeric class labels (0–9).\n",
        "#   b'filenames' → Filenames of the images (not always needed for training).\n",
        "#\n",
        "# Why this step matters:\n",
        "# CIFAR-10 images are not stored as .jpg or .png — they're serialized as raw arrays.\n",
        "# Unpickling converts them back into Python objects (NumPy arrays + labels),\n",
        "# which we can then preprocess into a format suitable for CNN/ResNet training.\n"
      ]
    },
    {
      "cell_type": "code",
      "source": [
        "# Extract image data and labels from the loaded batch\n",
        "X = batch1[b'data']      # Shape: (10000, 3072) → 10,000 images, each flattened to 3072 values\n",
        "Y = batch1[b'labels']    # List of 10,000 integer labels (range 0–9, one for each image)\n",
        "\n",
        "# Reshape the data to image format\n",
        "X = X.reshape(-1, 3, 32, 32)   # Reshape to (num_images, channels, height, width)\n",
        "# Now: (10000, 3, 32, 32)\n",
        "\n",
        "X = X.transpose(0, 2, 3, 1)    # Rearrange axes to (num_images, height, width, channels)\n",
        "# Now: (10000, 32, 32, 3), which is the standard format for TensorFlow/Keras\n",
        "# (TensorFlow expects channels-last ordering: H × W × C).\n",
        "\n",
        "print(\"Image shape:\", X[0].shape)  # Output: (32, 32, 3) → a single image\n",
        "\n",
        "# Why this step is important:\n",
        "# - CIFAR-10 stores images as flattened vectors (3*32*32 = 3072).\n",
        "# - CNNs expect inputs in image tensor format (H, W, C).\n",
        "# - This reshaping + transpose operation converts raw data into actual RGB images,\n",
        "#   making them ready for visualization, normalization, and feeding into CNN/ResNet models.\n"
      ],
      "metadata": {
        "colab": {
          "base_uri": "https://localhost:8080/"
        },
        "id": "cFNa6KdsOvLQ",
        "outputId": "4cd31dad-ee8c-4fc6-ed72-9d73ce9e4cec"
      },
      "execution_count": 39,
      "outputs": [
        {
          "output_type": "stream",
          "name": "stdout",
          "text": [
            "Image shape: (32, 32, 3)\n"
          ]
        }
      ]
    },
    {
      "cell_type": "code",
      "source": [
        "import matplotlib.pyplot as plt  # For plotting and image visualization\n",
        "\n",
        "# Display the first image in the batch\n",
        "plt.imshow(X[0])\n",
        "# X[0] is a NumPy array of shape (32, 32, 3) representing one RGB image.\n",
        "\n",
        "plt.title(f\"Label: {Y[0]}\")\n",
        "# Show the numeric label above the image.\n",
        "# Note: Y[0] is an integer (0–9), which maps to a class like airplane, cat, etc.\n",
        "# The actual label names (e.g., \"airplane\") are stored in `batches.meta`\n",
        "# and can be used for more human-friendly visualization later.\n",
        "\n",
        "plt.show()\n",
        "# Render the image on screen.\n"
      ],
      "metadata": {
        "colab": {
          "base_uri": "https://localhost:8080/",
          "height": 452
        },
        "id": "pV56M88UPFb9",
        "outputId": "3159fee3-1db2-4962-a2ee-db8e76a5d445"
      },
      "execution_count": 40,
      "outputs": [
        {
          "output_type": "display_data",
          "data": {
            "text/plain": [
              "<Figure size 640x480 with 1 Axes>"
            ],
            "image/png": "[encoded data removed]"
          },
          "metadata": {}
        }
      ]
    },
    {
      "cell_type": "code",
      "source": [
        "# Initialize empty lists for training data and labels\n",
        "X_train, Y_train = [], []\n",
        "\n",
        "# Loop over the 5 training batches\n",
        "for i in range(1, 6):\n",
        "    batch = unpickle(f\"cifar-10-batches-py/data_batch_{i}\")\n",
        "    # Load each training batch (10,000 images each, total 50,000 images)\n",
        "\n",
        "    X = batch[b'data']       # Shape: (10000, 3072) → flattened images\n",
        "    Y = batch[b'labels']     # List of 10,000 labels (integers 0–9)\n",
        "\n",
        "    # Reshape to image format (N, 32, 32, 3)\n",
        "    X = X.reshape(-1, 3, 32, 32).transpose(0, 2, 3, 1)\n",
        "\n",
        "    # Store results\n",
        "    X_train.append(X)        # Append image batch\n",
        "    Y_train.extend(Y)        # Extend list of labels\n",
        "\n",
        "# Combine all batches into single NumPy arrays\n",
        "X_train = np.concatenate(X_train)   # Shape: (50000, 32, 32, 3)\n",
        "Y_train = np.array(Y_train)         # Shape: (50000,)\n",
        "\n",
        "# Load the test batch (10,000 images)\n",
        "test_batch = unpickle(\"cifar-10-batches-py/test_batch\")\n",
        "X_test = test_batch[b'data'].reshape(-1, 3, 32, 32).transpose(0, 2, 3, 1)\n",
        "Y_test = np.array(test_batch[b'labels'])\n",
        "\n",
        "# Sanity check on dataset sizes\n",
        "print(\"Training set:\", X_train.shape, Y_train.shape)  # (50000, 32, 32, 3), (50000,)\n",
        "print(\"Test set:\", X_test.shape, Y_test.shape)        # (10000, 32, 32, 3), (10000,)\n"
      ],
      "metadata": {
        "colab": {
          "base_uri": "https://localhost:8080/"
        },
        "id": "zv6geMAZOvN2",
        "outputId": "161e182e-840c-4771-d3e0-8ec465addbd6"
      },
      "execution_count": 41,
      "outputs": [
        {
          "output_type": "stream",
          "name": "stdout",
          "text": [
            "Training set: (50000, 32, 32, 3) (50000,)\n",
            "Test set: (10000, 32, 32, 3) (10000,)\n"
          ]
        }
      ]
    },
    {
      "cell_type": "code",
      "source": [
        "import torch\n",
        "from torch.utils.data import Dataset, DataLoader\n",
        "import torchvision.transforms as transforms\n",
        "\n",
        "# ============================\n",
        "# Data Transformations\n",
        "# ============================\n",
        "\n",
        "# Transformations for training data: includes augmentation\n",
        "transform_train = transforms.Compose([\n",
        "    transforms.ToPILImage(),                # Convert NumPy (H,W,C) → PIL image\n",
        "    transforms.RandomCrop(32, padding=4),   # Random crop with 4px padding (augmentation)\n",
        "    transforms.RandomHorizontalFlip(),      # Random horizontal flip (augmentation)\n",
        "    transforms.ToTensor(),                  # Convert PIL image → Torch tensor [0,1]\n",
        "    transforms.Normalize((0.4914, 0.4822, 0.4465),   # Normalize with dataset mean\n",
        "                         (0.2023, 0.1994, 0.2010))   # Normalize with dataset std\n",
        "])\n",
        "\n",
        "# Transformations for test data: no augmentation, only normalization\n",
        "transform_test = transforms.Compose([\n",
        "    transforms.ToPILImage(),\n",
        "    transforms.ToTensor(),\n",
        "    transforms.Normalize((0.4914, 0.4822, 0.4465),\n",
        "                         (0.2023, 0.1994, 0.2010))\n",
        "])\n",
        "\n",
        "# ============================\n",
        "# Custom CIFAR-10 Dataset\n",
        "# ============================\n",
        "class CIFARDataset(Dataset):\n",
        "    def __init__(self, images, labels, transform=None):\n",
        "        self.images = images          # Store all images (NumPy array, shape: N x 32 x 32 x 3)\n",
        "        self.labels = labels          # Store all labels (NumPy array, shape: N,)\n",
        "        self.transform = transform    # Store transform pipeline (if any)\n",
        "\n",
        "    def __len__(self):\n",
        "        return len(self.images)       # Return number of samples in dataset\n",
        "\n",
        "    def __getitem__(self, idx):\n",
        "        img = self.images[idx]        # Get image at index `idx`\n",
        "        label = self.labels[idx]      # Get label at index `idx`\n",
        "\n",
        "        if self.transform:            # If transformations are defined, apply them\n",
        "            img = self.transform(img)\n",
        "\n",
        "        return img, label             # Return transformed image + label\n",
        "        # img → Tensor of shape (3, 32, 32)\n",
        "        # label → Integer (0–9)\n",
        "\n",
        "# ============================\n",
        "# Dataset + DataLoader Setup\n",
        "# ============================\n",
        "\n",
        "# Wrap NumPy arrays into Dataset objects\n",
        "train_dataset = CIFARDataset(X_train, Y_train, transform=transform_train)\n",
        "test_dataset  = CIFARDataset(X_test, Y_test, transform=transform_test)\n",
        "\n",
        "# DataLoader → Provides batches of data for training/testing\n",
        "train_loader = DataLoader(train_dataset, batch_size=128, shuffle=True, num_workers=2)\n",
        "# - batch_size=128 → each batch has 128 images\n",
        "# - shuffle=True   → randomize order for training\n",
        "# - num_workers=2  → number of subprocesses for loading data\n",
        "\n",
        "test_loader  = DataLoader(test_dataset, batch_size=100, shuffle=False, num_workers=2)\n",
        "# - batch_size=100 → test with 100 images per batch\n",
        "# - shuffle=False  → test data should not be shuffled\n",
        "\n",
        "# ============================\n",
        "# Sanity Check: Inspect One Batch\n",
        "# ============================\n",
        "images, labels = next(iter(train_loader))   # Fetch one batch from train_loader\n",
        "print(\"Batch shape:\", images.shape)         # Expected: (128, 3, 32, 32)\n",
        "print(\"Labels:\", labels[:10])               # Print first 10 labels in the batch\n"
      ],
      "metadata": {
        "colab": {
          "base_uri": "https://localhost:8080/"
        },
        "id": "ui_wDMk8OvSB",
        "outputId": "afaa7369-800e-4973-fe3f-9646f04e2052"
      },
      "execution_count": 42,
      "outputs": [
        {
          "output_type": "stream",
          "name": "stdout",
          "text": [
            "Batch shape: torch.Size([128, 3, 32, 32])\n",
            "Labels: tensor([6, 5, 4, 3, 5, 7, 6, 2, 6, 9])\n"
          ]
        }
      ]
    },
    {
      "cell_type": "code",
      "source": [
        "import torch\n",
        "import torch.nn as nn\n",
        "import torch.nn.functional as F\n",
        "\n",
        "# ==========================\n",
        "# 1. Plain CNN (no skip connections)\n",
        "# ==========================\n",
        "class PlainCNN(nn.Module):\n",
        "    def __init__(self, num_classes=10):\n",
        "        super(PlainCNN, self).__init__()\n",
        "\n",
        "        # Feature extractor: stack of Conv → BN → ReLU layers\n",
        "        self.features = nn.Sequential(\n",
        "            nn.Conv2d(3, 64, kernel_size=3, padding=1),  # Input: (3, 32, 32), Output: (64, 32, 32)\n",
        "            nn.BatchNorm2d(64),\n",
        "            nn.ReLU(inplace=True),\n",
        "\n",
        "            nn.Conv2d(64, 128, kernel_size=3, padding=1),  # (128, 32, 32)\n",
        "            nn.BatchNorm2d(128),\n",
        "            nn.ReLU(inplace=True),\n",
        "            nn.MaxPool2d(2, 2),  # Downsample: (128, 16, 16)\n",
        "\n",
        "            nn.Conv2d(128, 256, kernel_size=3, padding=1),  # (256, 16, 16)\n",
        "            nn.BatchNorm2d(256),\n",
        "            nn.ReLU(inplace=True),\n",
        "            nn.MaxPool2d(2, 2),  # Downsample: (256, 8, 8)\n",
        "\n",
        "            nn.Conv2d(256, 512, kernel_size=3, padding=1),  # (512, 8, 8)\n",
        "            nn.BatchNorm2d(512),\n",
        "            nn.ReLU(inplace=True),\n",
        "            nn.MaxPool2d(2, 2),  # Downsample: (512, 4, 4)\n",
        "        )\n",
        "\n",
        "        # Fully connected layer for classification\n",
        "        self.classifier = nn.Linear(512 * 4 * 4, num_classes)\n",
        "\n",
        "    def forward(self, x):\n",
        "        x = self.features(x)                 # Extract features\n",
        "        x = x.view(x.size(0), -1)            # Flatten to (batch_size, 512*4*4)\n",
        "        x = self.classifier(x)               # Linear classification layer\n",
        "        return x\n",
        "\n",
        "\n",
        "# ==========================\n",
        "# 2. Residual Block (used in ResNet)\n",
        "# ==========================\n",
        "class ResidualBlock(nn.Module):\n",
        "    def __init__(self, in_channels, out_channels, stride=1, downsample=None):\n",
        "        super(ResidualBlock, self).__init__()\n",
        "\n",
        "        # First convolution\n",
        "        self.conv1 = nn.Conv2d(in_channels, out_channels, kernel_size=3,\n",
        "                               stride=stride, padding=1, bias=False)\n",
        "        self.bn1 = nn.BatchNorm2d(out_channels)\n",
        "        self.relu = nn.ReLU(inplace=True)\n",
        "\n",
        "        # Second convolution\n",
        "        self.conv2 = nn.Conv2d(out_channels, out_channels, kernel_size=3,\n",
        "                               stride=1, padding=1, bias=False)\n",
        "        self.bn2 = nn.BatchNorm2d(out_channels)\n",
        "\n",
        "        # If dimensions don’t match (e.g., channels or stride), apply downsampling\n",
        "        self.downsample = downsample\n",
        "\n",
        "    def forward(self, x):\n",
        "        identity = x  # Save input for skip connection\n",
        "\n",
        "        # Main path\n",
        "        out = self.conv1(x)\n",
        "        out = self.bn1(out)\n",
        "        out = self.relu(out)\n",
        "\n",
        "        out = self.conv2(out)\n",
        "        out = self.bn2(out)\n",
        "\n",
        "        # Adjust input if needed (downsample)\n",
        "        if self.downsample is not None:\n",
        "            identity = self.downsample(x)\n",
        "\n",
        "        # Add skip connection\n",
        "        out += identity\n",
        "        out = self.relu(out)  # Apply activation after addition\n",
        "        return out\n",
        "\n",
        "\n",
        "# ==========================\n",
        "# 3. ResNet (small version for CIFAR-10)\n",
        "# ==========================\n",
        "class ResNetSmall(nn.Module):\n",
        "    def __init__(self, num_classes=10):\n",
        "        super(ResNetSmall, self).__init__()\n",
        "\n",
        "        # Initial convolution\n",
        "        self.conv1 = nn.Conv2d(3, 64, kernel_size=3, stride=1, padding=1, bias=False)\n",
        "        self.bn1 = nn.BatchNorm2d(64)\n",
        "        self.relu = nn.ReLU(inplace=True)\n",
        "\n",
        "        # Residual layers (each has multiple residual blocks)\n",
        "        self.layer1 = self._make_layer(64, 64, num_blocks=2, stride=1)   # Output: (64, 32, 32)\n",
        "        self.layer2 = self._make_layer(64, 128, num_blocks=2, stride=2)  # Output: (128, 16, 16)\n",
        "        self.layer3 = self._make_layer(128, 256, num_blocks=2, stride=2) # Output: (256, 8, 8)\n",
        "        self.layer4 = self._make_layer(256, 512, num_blocks=2, stride=2) # Output: (512, 4, 4)\n",
        "\n",
        "        # Global average pooling → FC layer\n",
        "        self.avgpool = nn.AdaptiveAvgPool2d((1, 1))  # Reduce to (512, 1, 1)\n",
        "        self.fc = nn.Linear(512, num_classes)\n",
        "\n",
        "    def _make_layer(self, in_channels, out_channels, num_blocks, stride):\n",
        "        \"\"\"\n",
        "        Build a sequence of residual blocks.\n",
        "        Handles downsampling when dimensions change.\n",
        "        \"\"\"\n",
        "        downsample = None\n",
        "        if stride != 1 or in_channels != out_channels:\n",
        "            # Adjust channel size and/or spatial resolution\n",
        "            downsample = nn.Sequential(\n",
        "                nn.Conv2d(in_channels, out_channels, kernel_size=1,\n",
        "                          stride=stride, bias=False),\n",
        "                nn.BatchNorm2d(out_channels)\n",
        "            )\n",
        "\n",
        "        layers = []\n",
        "        # First block may need downsampling\n",
        "        layers.append(ResidualBlock(in_channels, out_channels, stride, downsample))\n",
        "        # Remaining blocks just stack without downsampling\n",
        "        for _ in range(1, num_blocks):\n",
        "            layers.append(ResidualBlock(out_channels, out_channels))\n",
        "        return nn.Sequential(*layers)\n",
        "\n",
        "    def forward(self, x):\n",
        "        # Initial conv\n",
        "        x = self.conv1(x)\n",
        "        x = self.bn1(x)\n",
        "        x = self.relu(x)\n",
        "\n",
        "        # Residual layers\n",
        "        x = self.layer1(x)\n",
        "        x = self.layer2(x)\n",
        "        x = self.layer3(x)\n",
        "        x = self.layer4(x)\n",
        "\n",
        "        # Pool + Flatten + FC\n",
        "        x = self.avgpool(x)              # (512, H, W) → (512, 1, 1)\n",
        "        x = torch.flatten(x, 1)          # (batch_size, 512)\n",
        "        x = self.fc(x)                   # Linear classifier\n",
        "        return x\n",
        "\n",
        "\n",
        "# ==========================\n",
        "# 4. Test both models\n",
        "# ==========================\n",
        "if __name__ == \"__main__\":\n",
        "    x = torch.randn(4, 3, 32, 32)  # Dummy input (batch=4, 3x32x32 image)\n",
        "\n",
        "    plain = PlainCNN()\n",
        "    resnet = ResNetSmall()\n",
        "\n",
        "    # Both should output (batch_size, num_classes=10)\n",
        "    print(\"Plain CNN output shape:\", plain(x).shape)   # (4, 10)\n",
        "    print(\"ResNet output shape:\", resnet(x).shape)     # (4, 10)\n"
      ],
      "metadata": {
        "id": "KcYxC3EWJ6qV",
        "colab": {
          "base_uri": "https://localhost:8080/"
        },
        "outputId": "4d9df1d7-f98d-4100-dc32-88ae82be63e1"
      },
      "execution_count": 50,
      "outputs": [
        {
          "output_type": "stream",
          "name": "stdout",
          "text": [
            "Plain CNN output shape: torch.Size([4, 10])\n",
            "ResNet output shape: torch.Size([4, 10])\n"
          ]
        }
      ]
    },
    {
      "cell_type": "code",
      "source": [
        "import torch\n",
        "import torch.nn as nn\n",
        "import torch.optim as optim\n",
        "from tqdm import tqdm  # for progress bar\n",
        "\n",
        "# ==================================\n",
        "# 1. Training & Evaluation Functions\n",
        "# ==================================\n",
        "def train_one_epoch(model, dataloader, criterion, optimizer, device):\n",
        "    model.train()\n",
        "    running_loss, correct, total = 0.0, 0, 0\n",
        "\n",
        "    for inputs, targets in tqdm(dataloader, desc=\"Training\", leave=False):\n",
        "        inputs, targets = inputs.to(device), targets.to(device)\n",
        "\n",
        "        optimizer.zero_grad()\n",
        "        outputs = model(inputs)\n",
        "        loss = criterion(outputs, targets)\n",
        "        loss.backward()\n",
        "        optimizer.step()\n",
        "\n",
        "        running_loss += loss.item() * inputs.size(0)\n",
        "        _, predicted = outputs.max(1)\n",
        "        total += targets.size(0)\n",
        "        correct += predicted.eq(targets).sum().item()\n",
        "\n",
        "    epoch_loss = running_loss / total\n",
        "    epoch_acc = 100. * correct / total\n",
        "    return epoch_loss, epoch_acc\n",
        "\n",
        "\n",
        "def evaluate(model, dataloader, criterion, device):\n",
        "    model.eval()\n",
        "    running_loss, correct, total = 0.0, 0, 0\n",
        "\n",
        "    with torch.no_grad():\n",
        "        for inputs, targets in tqdm(dataloader, desc=\"Evaluating\", leave=False):\n",
        "            inputs, targets = inputs.to(device), targets.to(device)\n",
        "            outputs = model(inputs)\n",
        "            loss = criterion(outputs, targets)\n",
        "\n",
        "            running_loss += loss.item() * inputs.size(0)\n",
        "            _, predicted = outputs.max(1)\n",
        "            total += targets.size(0)\n",
        "            correct += predicted.eq(targets).sum().item()\n",
        "\n",
        "    epoch_loss = running_loss / total\n",
        "    epoch_acc = 100. * correct / total\n",
        "    return epoch_loss, epoch_acc\n",
        "\n",
        "\n",
        "# ==================================\n",
        "# 2. Full Training Loop\n",
        "# ==================================\n",
        "def train_model(model, trainloader, testloader, device, epochs=50, lr=0.1):\n",
        "    criterion = nn.CrossEntropyLoss()\n",
        "    optimizer = optim.SGD(model.parameters(), lr=lr, momentum=0.9, weight_decay=5e-4)\n",
        "    scheduler = optim.lr_scheduler.StepLR(optimizer, step_size=20, gamma=0.1)  # reduce LR\n",
        "\n",
        "    history = {\"train_loss\": [], \"train_acc\": [], \"val_loss\": [], \"val_acc\": []}\n",
        "\n",
        "    for epoch in range(epochs):\n",
        "        print(f\"\\nEpoch [{epoch+1}/{epochs}]\")\n",
        "\n",
        "        train_loss, train_acc = train_one_epoch(model, trainloader, criterion, optimizer, device)\n",
        "        val_loss, val_acc = evaluate(model, testloader, criterion, device)\n",
        "\n",
        "        scheduler.step()\n",
        "\n",
        "        history[\"train_loss\"].append(train_loss)\n",
        "        history[\"train_acc\"].append(train_acc)\n",
        "        history[\"val_loss\"].append(val_loss)\n",
        "        history[\"val_acc\"].append(val_acc)\n",
        "\n",
        "        print(f\"Train Loss: {train_loss:.4f}, Train Acc: {train_acc:.2f}%\")\n",
        "        print(f\"Val   Loss: {val_loss:.4f}, Val   Acc: {val_acc:.2f}%\")\n",
        "\n",
        "    return history\n"
      ],
      "metadata": {
        "id": "6uvPRqIkJ6tY"
      },
      "execution_count": 44,
      "outputs": []
    },
    {
      "cell_type": "code",
      "source": [
        "import torch.optim as optim          # optimizer functions (SGD, Adam, etc.)\n",
        "from tqdm import tqdm                # progress bar for training\n",
        "\n",
        "# ==================================\n",
        "# 1. Training Function (one epoch)\n",
        "# ==================================\n",
        "def train_one_epoch(model, dataloader, criterion, optimizer, device):\n",
        "    \"\"\"\n",
        "    Trains the model for one epoch.\n",
        "\n",
        "    Args:\n",
        "        model: The PyTorch model (PlainCNN or ResNet).\n",
        "        dataloader: Training data loader.\n",
        "        criterion: Loss function (CrossEntropyLoss).\n",
        "        optimizer: Optimizer (SGD, Adam, etc.).\n",
        "        device: 'cuda' or 'cpu'.\n",
        "\n",
        "    Returns:\n",
        "        epoch_loss: Average training loss for the epoch.\n",
        "        epoch_acc: Training accuracy (%) for the epoch.\n",
        "    \"\"\"\n",
        "    model.train()  # set model to training mode (activates dropout/batchnorm updates)\n",
        "    running_loss, correct, total = 0.0, 0, 0  # stats\n",
        "\n",
        "    # iterate through mini-batches\n",
        "    for inputs, targets in tqdm(dataloader, desc=\"Training\", leave=False):\n",
        "        # move data to GPU/CPU\n",
        "        inputs, targets = inputs.to(device), targets.to(device)\n",
        "\n",
        "        optimizer.zero_grad()           # clear gradients\n",
        "        outputs = model(inputs)         # forward pass\n",
        "        loss = criterion(outputs, targets)  # compute loss\n",
        "        loss.backward()                 # backpropagation\n",
        "        optimizer.step()                # update weights\n",
        "\n",
        "        # accumulate stats\n",
        "        running_loss += loss.item() * inputs.size(0)  # batch loss * batch size\n",
        "        _, predicted = outputs.max(1)                 # predicted class index\n",
        "        total += targets.size(0)\n",
        "        correct += predicted.eq(targets).sum().item() # correct predictions\n",
        "\n",
        "    # average loss and accuracy for the epoch\n",
        "    epoch_loss = running_loss / total\n",
        "    epoch_acc = 100. * correct / total\n",
        "    return epoch_loss, epoch_acc\n",
        "\n",
        "\n",
        "# ==================================\n",
        "# 2. Evaluation Function (validation/test)\n",
        "# ==================================\n",
        "def evaluate(model, dataloader, criterion, device):\n",
        "    \"\"\"\n",
        "    Evaluates the model (no gradient updates).\n",
        "\n",
        "    Args:\n",
        "        model: The trained model.\n",
        "        dataloader: Validation/test data loader.\n",
        "        criterion: Loss function.\n",
        "        device: 'cuda' or 'cpu'.\n",
        "\n",
        "    Returns:\n",
        "        epoch_loss: Average validation/test loss.\n",
        "        epoch_acc: Validation/test accuracy (%).\n",
        "    \"\"\"\n",
        "    model.eval()  # evaluation mode (disable dropout/batchnorm updates)\n",
        "    running_loss, correct, total = 0.0, 0, 0\n",
        "\n",
        "    # disable gradients (faster, saves memory)\n",
        "    with torch.no_grad():\n",
        "        for inputs, targets in tqdm(dataloader, desc=\"Evaluating\", leave=False):\n",
        "            inputs, targets = inputs.to(device), targets.to(device)\n",
        "            outputs = model(inputs)\n",
        "            loss = criterion(outputs, targets)\n",
        "\n",
        "            running_loss += loss.item() * inputs.size(0)\n",
        "            _, predicted = outputs.max(1)\n",
        "            total += targets.size(0)\n",
        "            correct += predicted.eq(targets).sum().item()\n",
        "\n",
        "    epoch_loss = running_loss / total\n",
        "    epoch_acc = 100. * correct / total\n",
        "    return epoch_loss, epoch_acc\n",
        "\n",
        "\n",
        "# ==================================\n",
        "# 3. Full Training Loop (multiple epochs)\n",
        "# ==================================\n",
        "def train_model(model, trainloader, testloader, device, epochs=50, lr=0.1):\n",
        "    \"\"\"\n",
        "    Trains the model for multiple epochs and evaluates after each epoch.\n",
        "\n",
        "    Args:\n",
        "        model: The CNN/ResNet model to train.\n",
        "        trainloader: Training DataLoader.\n",
        "        testloader: Validation/Test DataLoader.\n",
        "        device: 'cuda' or 'cpu'.\n",
        "        epochs: Number of training epochs.\n",
        "        lr: Learning rate.\n",
        "\n",
        "    Returns:\n",
        "        history: Dictionary containing training/validation loss and accuracy curves.\n",
        "    \"\"\"\n",
        "    criterion = nn.CrossEntropyLoss()  # classification loss\n",
        "    optimizer = optim.SGD(model.parameters(), lr=lr, momentum=0.9, weight_decay=5e-4)\n",
        "    # momentum helps faster convergence, weight_decay = L2 regularization\n",
        "\n",
        "    scheduler = optim.lr_scheduler.StepLR(optimizer, step_size=20, gamma=0.1)\n",
        "    # reduces LR by 10x every 20 epochs\n",
        "\n",
        "    history = {\"train_loss\": [], \"train_acc\": [], \"val_loss\": [], \"val_acc\": []}\n",
        "\n",
        "    for epoch in range(epochs):\n",
        "        print(f\"\\nEpoch [{epoch+1}/{epochs}]\")\n",
        "\n",
        "        # train for one epoch\n",
        "        train_loss, train_acc = train_one_epoch(model, trainloader, criterion, optimizer, device)\n",
        "\n",
        "        # evaluate on validation/test set\n",
        "        val_loss, val_acc = evaluate(model, testloader, criterion, device)\n",
        "\n",
        "        # step the LR scheduler\n",
        "        scheduler.step()\n",
        "\n",
        "        # store stats\n",
        "        history[\"train_loss\"].append(train_loss)\n",
        "        history[\"train_acc\"].append(train_acc)\n",
        "        history[\"val_loss\"].append(val_loss)\n",
        "        history[\"val_acc\"].append(val_acc)\n",
        "\n",
        "        # display epoch results\n",
        "        print(f\"Train Loss: {train_loss:.4f}, Train Acc: {train_acc:.2f}%\")\n",
        "        print(f\"Val   Loss: {val_loss:.4f}, Val   Acc: {val_acc:.2f}%\")\n",
        "\n",
        "    return history\n"
      ],
      "metadata": {
        "id": "85VgAabdJ6wx"
      },
      "execution_count": 45,
      "outputs": []
    },
    {
      "cell_type": "code",
      "source": [
        "from tqdm import tqdm  # progress bar for training/evaluation loops\n",
        "\n",
        "# ============================\n",
        "# 1. Helper: Unpickle CIFAR-10 batches\n",
        "# ============================\n",
        "def unpickle(file):\n",
        "    \"\"\"\n",
        "    Load CIFAR-10 dataset batch file.\n",
        "\n",
        "    Args:\n",
        "        file (str): Path to CIFAR-10 batch file.\n",
        "    Returns:\n",
        "        dict: Contains raw image data and labels.\n",
        "    \"\"\"\n",
        "    with open(file, 'rb') as fo:\n",
        "        dict = pickle.load(fo, encoding='bytes')  # load Python dict\n",
        "    return dict\n",
        "\n",
        "\n",
        "# ============================\n",
        "# 2. Load CIFAR-10 Training Data\n",
        "# ============================\n",
        "X_train, Y_train = [], []  # store all training images and labels\n",
        "\n",
        "# CIFAR-10 has 5 training batches, each with 10,000 images\n",
        "for i in range(1, 6):\n",
        "    batch = unpickle(f\"cifar-10-batches-py/data_batch_{i}\")  # load one batch\n",
        "    X = batch[b'data']     # shape (10000, 3072) → flattened 32x32x3\n",
        "    Y = batch[b'labels']   # list of labels (0–9)\n",
        "\n",
        "    # Reshape to (N, 32, 32, 3) → format suitable for visualization/processing\n",
        "    X = X.reshape(-1, 3, 32, 32).transpose(0, 2, 3, 1)\n",
        "\n",
        "    X_train.append(X)      # accumulate batch images\n",
        "    Y_train.extend(Y)      # accumulate batch labels\n",
        "\n",
        "# Merge all 5 batches → complete training set\n",
        "X_train = np.concatenate(X_train)  # shape: (50000, 32, 32, 3)\n",
        "Y_train = np.array(Y_train)        # shape: (50000,)\n",
        "\n",
        "\n",
        "# ============================\n",
        "# 3. Load CIFAR-10 Test Data\n",
        "# ============================\n",
        "test_batch = unpickle(\"cifar-10-batches-py/test_batch\")\n",
        "X_test = test_batch[b'data'].reshape(-1, 3, 32, 32).transpose(0, 2, 3, 1)\n",
        "Y_test = np.array(test_batch[b'labels'])  # shape: (10000,)\n",
        "\n",
        "\n",
        "# ============================\n",
        "# 4. Define Transformations\n",
        "# ============================\n",
        "# Data augmentation + normalization (training)\n",
        "transform_train = transforms.Compose([\n",
        "    transforms.ToPILImage(),                # numpy array → PIL image\n",
        "    transforms.RandomCrop(32, padding=4),   # random crop with padding\n",
        "    transforms.RandomHorizontalFlip(),      # random left/right flip\n",
        "    transforms.ToTensor(),                  # PIL image → tensor [0,1]\n",
        "    transforms.Normalize((0.4914, 0.4822, 0.4465),  # normalize (per-channel mean/std)\n",
        "                         (0.2023, 0.1994, 0.2010))\n",
        "])\n",
        "\n",
        "# Only normalization (test)\n",
        "transform_test = transforms.Compose([\n",
        "    transforms.ToPILImage(),\n",
        "    transforms.ToTensor(),\n",
        "    transforms.Normalize((0.4914, 0.4822, 0.4465),\n",
        "                         (0.2023, 0.1994, 0.2010))\n",
        "])\n",
        "\n",
        "\n",
        "# ============================\n",
        "# 5. Custom Dataset Class\n",
        "# ============================\n",
        "class CIFARDataset(Dataset):\n",
        "    \"\"\"\n",
        "    Custom Dataset for CIFAR-10 stored as numpy arrays.\n",
        "    \"\"\"\n",
        "\n",
        "    def __init__(self, images, labels, transform=None):\n",
        "        self.images = images   # numpy array (N, 32, 32, 3)\n",
        "        self.labels = labels   # numpy array (N,)\n",
        "        self.transform = transform  # optional preprocessing\n",
        "\n",
        "    def __len__(self):\n",
        "        return len(self.images)\n",
        "\n",
        "    def __getitem__(self, idx):\n",
        "        # Fetch one image and label\n",
        "        img = self.images[idx]\n",
        "        label = self.labels[idx]\n",
        "\n",
        "        # Apply transformation if defined\n",
        "        if self.transform:\n",
        "            img = self.transform(img)\n",
        "\n",
        "        return img, label\n",
        "\n",
        "\n",
        "# ============================\n",
        "# 6. Wrap Data into PyTorch DataLoader\n",
        "# ============================\n",
        "train_dataset = CIFARDataset(X_train, Y_train, transform=transform_train)\n",
        "test_dataset = CIFARDataset(X_test, Y_test, transform=transform_test)\n",
        "\n",
        "train_loader = DataLoader(train_dataset, batch_size=128, shuffle=True, num_workers=2)\n",
        "test_loader = DataLoader(test_dataset, batch_size=100, shuffle=False, num_workers=2)\n",
        "\n",
        "\n",
        "# ============================\n",
        "# 7. Select Device (GPU if available)\n",
        "# ============================\n",
        "device = torch.device(\"cuda\" if torch.cuda.is_available() else \"cpu\")\n",
        "print(\"Using device:\", device)\n"
      ],
      "metadata": {
        "colab": {
          "base_uri": "https://localhost:8080/"
        },
        "id": "_PahewMV33oo",
        "outputId": "983c3723-d74d-40f5-fbfc-4ce3a8ae64b9"
      },
      "execution_count": 46,
      "outputs": [
        {
          "output_type": "stream",
          "name": "stdout",
          "text": [
            "Using device: cuda\n"
          ]
        }
      ]
    },
    {
      "cell_type": "code",
      "source": [
        "# ============================\n",
        "# 1. Initialize Plain CNN Model\n",
        "# ============================\n",
        "# Create an instance of PlainCNN (defined earlier).\n",
        "# `.to(device)` moves the model to GPU if available, otherwise CPU.\n",
        "plain_model = PlainCNN().to(device)\n",
        "\n",
        "# ============================\n",
        "# 2. Train the Plain CNN\n",
        "# ============================\n",
        "# We call the training function defined earlier (`train_model`)\n",
        "# with the following parameters:\n",
        "#   - plain_model: our CNN without skip connections\n",
        "#   - train_loader: DataLoader for training set\n",
        "#   - test_loader: DataLoader for validation/test set\n",
        "#   - device: 'cuda' (GPU) or 'cpu'\n",
        "#   - epochs: number of full training cycles over dataset (50 here)\n",
        "#   - lr: learning rate for optimizer (0.1 is a standard starting point for SGD)\n",
        "#\n",
        "# The function will:\n",
        "#   - Train the model epoch by epoch\n",
        "#   - Evaluate performance after each epoch\n",
        "#   - Adjust learning rate using StepLR scheduler\n",
        "#   - Save history of loss/accuracy for plotting later\n",
        "history_plain = train_model(\n",
        "    plain_model,\n",
        "    train_loader,\n",
        "    test_loader,\n",
        "    device,\n",
        "    epochs=50,\n",
        "    lr=0.1\n",
        ")\n"
      ],
      "metadata": {
        "colab": {
          "base_uri": "https://localhost:8080/"
        },
        "id": "HRXJE6qxl_ZU",
        "outputId": "1f714b67-54b8-4ac4-ab65-4c6af7e66e83"
      },
      "execution_count": 47,
      "outputs": [
        {
          "output_type": "stream",
          "name": "stdout",
          "text": [
            "\n",
            "Epoch [1/50]\n"
          ]
        },
        {
          "output_type": "stream",
          "name": "stderr",
          "text": []
        },
        {
          "output_type": "stream",
          "name": "stdout",
          "text": [
            "Train Loss: 3.7348, Train Acc: 18.69%\n",
            "Val   Loss: 1.7824, Val   Acc: 33.46%\n",
            "\n",
            "Epoch [2/50]\n"
          ]
        },
        {
          "output_type": "stream",
          "name": "stderr",
          "text": []
        },
        {
          "output_type": "stream",
          "name": "stdout",
          "text": [
            "Train Loss: 1.7341, Train Acc: 35.95%\n",
            "Val   Loss: 1.7855, Val   Acc: 37.21%\n",
            "\n",
            "Epoch [3/50]\n"
          ]
        },
        {
          "output_type": "stream",
          "name": "stderr",
          "text": []
        },
        {
          "output_type": "stream",
          "name": "stdout",
          "text": [
            "Train Loss: 1.5367, Train Acc: 43.34%\n",
            "Val   Loss: 1.3970, Val   Acc: 50.15%\n",
            "\n",
            "Epoch [4/50]\n"
          ]
        },
        {
          "output_type": "stream",
          "name": "stderr",
          "text": []
        },
        {
          "output_type": "stream",
          "name": "stdout",
          "text": [
            "Train Loss: 1.3400, Train Acc: 51.69%\n",
            "Val   Loss: 1.6174, Val   Acc: 47.32%\n",
            "\n",
            "Epoch [5/50]\n"
          ]
        },
        {
          "output_type": "stream",
          "name": "stderr",
          "text": []
        },
        {
          "output_type": "stream",
          "name": "stdout",
          "text": [
            "Train Loss: 1.1825, Train Acc: 57.77%\n",
            "Val   Loss: 1.0844, Val   Acc: 62.21%\n",
            "\n",
            "Epoch [6/50]\n"
          ]
        },
        {
          "output_type": "stream",
          "name": "stderr",
          "text": []
        },
        {
          "output_type": "stream",
          "name": "stdout",
          "text": [
            "Train Loss: 1.0789, Train Acc: 61.78%\n",
            "Val   Loss: 1.0309, Val   Acc: 63.71%\n",
            "\n",
            "Epoch [7/50]\n"
          ]
        },
        {
          "output_type": "stream",
          "name": "stderr",
          "text": []
        },
        {
          "output_type": "stream",
          "name": "stdout",
          "text": [
            "Train Loss: 0.9832, Train Acc: 65.46%\n",
            "Val   Loss: 0.9849, Val   Acc: 65.02%\n",
            "\n",
            "Epoch [8/50]\n"
          ]
        },
        {
          "output_type": "stream",
          "name": "stderr",
          "text": []
        },
        {
          "output_type": "stream",
          "name": "stdout",
          "text": [
            "Train Loss: 0.9145, Train Acc: 68.13%\n",
            "Val   Loss: 0.9519, Val   Acc: 65.76%\n",
            "\n",
            "Epoch [9/50]\n"
          ]
        },
        {
          "output_type": "stream",
          "name": "stderr",
          "text": []
        },
        {
          "output_type": "stream",
          "name": "stdout",
          "text": [
            "Train Loss: 0.8639, Train Acc: 70.02%\n",
            "Val   Loss: 0.8169, Val   Acc: 72.18%\n",
            "\n",
            "Epoch [10/50]\n"
          ]
        },
        {
          "output_type": "stream",
          "name": "stderr",
          "text": []
        },
        {
          "output_type": "stream",
          "name": "stdout",
          "text": [
            "Train Loss: 0.8081, Train Acc: 72.08%\n",
            "Val   Loss: 0.8702, Val   Acc: 70.08%\n",
            "\n",
            "Epoch [11/50]\n"
          ]
        },
        {
          "output_type": "stream",
          "name": "stderr",
          "text": []
        },
        {
          "output_type": "stream",
          "name": "stdout",
          "text": [
            "Train Loss: 0.7667, Train Acc: 73.52%\n",
            "Val   Loss: 0.8891, Val   Acc: 70.86%\n",
            "\n",
            "Epoch [12/50]\n"
          ]
        },
        {
          "output_type": "stream",
          "name": "stderr",
          "text": []
        },
        {
          "output_type": "stream",
          "name": "stdout",
          "text": [
            "Train Loss: 0.7409, Train Acc: 74.34%\n",
            "Val   Loss: 0.8831, Val   Acc: 71.35%\n",
            "\n",
            "Epoch [13/50]\n"
          ]
        },
        {
          "output_type": "stream",
          "name": "stderr",
          "text": []
        },
        {
          "output_type": "stream",
          "name": "stdout",
          "text": [
            "Train Loss: 0.7066, Train Acc: 75.58%\n",
            "Val   Loss: 0.8369, Val   Acc: 72.76%\n",
            "\n",
            "Epoch [14/50]\n"
          ]
        },
        {
          "output_type": "stream",
          "name": "stderr",
          "text": []
        },
        {
          "output_type": "stream",
          "name": "stdout",
          "text": [
            "Train Loss: 0.6813, Train Acc: 76.45%\n",
            "Val   Loss: 0.6771, Val   Acc: 76.74%\n",
            "\n",
            "Epoch [15/50]\n"
          ]
        },
        {
          "output_type": "stream",
          "name": "stderr",
          "text": []
        },
        {
          "output_type": "stream",
          "name": "stdout",
          "text": [
            "Train Loss: 0.6643, Train Acc: 77.07%\n",
            "Val   Loss: 0.8343, Val   Acc: 72.48%\n",
            "\n",
            "Epoch [16/50]\n"
          ]
        },
        {
          "output_type": "stream",
          "name": "stderr",
          "text": []
        },
        {
          "output_type": "stream",
          "name": "stdout",
          "text": [
            "Train Loss: 0.6496, Train Acc: 77.63%\n",
            "Val   Loss: 0.9003, Val   Acc: 71.08%\n",
            "\n",
            "Epoch [17/50]\n"
          ]
        },
        {
          "output_type": "stream",
          "name": "stderr",
          "text": []
        },
        {
          "output_type": "stream",
          "name": "stdout",
          "text": [
            "Train Loss: 0.6285, Train Acc: 78.48%\n",
            "Val   Loss: 0.7250, Val   Acc: 76.14%\n",
            "\n",
            "Epoch [18/50]\n"
          ]
        },
        {
          "output_type": "stream",
          "name": "stderr",
          "text": []
        },
        {
          "output_type": "stream",
          "name": "stdout",
          "text": [
            "Train Loss: 0.6219, Train Acc: 78.60%\n",
            "Val   Loss: 1.0366, Val   Acc: 70.31%\n",
            "\n",
            "Epoch [19/50]\n"
          ]
        },
        {
          "output_type": "stream",
          "name": "stderr",
          "text": []
        },
        {
          "output_type": "stream",
          "name": "stdout",
          "text": [
            "Train Loss: 0.6024, Train Acc: 79.27%\n",
            "Val   Loss: 1.2142, Val   Acc: 66.72%\n",
            "\n",
            "Epoch [20/50]\n"
          ]
        },
        {
          "output_type": "stream",
          "name": "stderr",
          "text": []
        },
        {
          "output_type": "stream",
          "name": "stdout",
          "text": [
            "Train Loss: 0.5948, Train Acc: 79.74%\n",
            "Val   Loss: 0.7034, Val   Acc: 77.13%\n",
            "\n",
            "Epoch [21/50]\n"
          ]
        },
        {
          "output_type": "stream",
          "name": "stderr",
          "text": []
        },
        {
          "output_type": "stream",
          "name": "stdout",
          "text": [
            "Train Loss: 0.4344, Train Acc: 85.17%\n",
            "Val   Loss: 0.4559, Val   Acc: 84.82%\n",
            "\n",
            "Epoch [22/50]\n"
          ]
        },
        {
          "output_type": "stream",
          "name": "stderr",
          "text": []
        },
        {
          "output_type": "stream",
          "name": "stdout",
          "text": [
            "Train Loss: 0.3890, Train Acc: 86.79%\n",
            "Val   Loss: 0.4258, Val   Acc: 85.78%\n",
            "\n",
            "Epoch [23/50]\n"
          ]
        },
        {
          "output_type": "stream",
          "name": "stderr",
          "text": []
        },
        {
          "output_type": "stream",
          "name": "stdout",
          "text": [
            "Train Loss: 0.3659, Train Acc: 87.62%\n",
            "Val   Loss: 0.4180, Val   Acc: 86.20%\n",
            "\n",
            "Epoch [24/50]\n"
          ]
        },
        {
          "output_type": "stream",
          "name": "stderr",
          "text": []
        },
        {
          "output_type": "stream",
          "name": "stdout",
          "text": [
            "Train Loss: 0.3551, Train Acc: 87.80%\n",
            "Val   Loss: 0.4188, Val   Acc: 86.11%\n",
            "\n",
            "Epoch [25/50]\n"
          ]
        },
        {
          "output_type": "stream",
          "name": "stderr",
          "text": []
        },
        {
          "output_type": "stream",
          "name": "stdout",
          "text": [
            "Train Loss: 0.3396, Train Acc: 88.41%\n",
            "Val   Loss: 0.4170, Val   Acc: 86.11%\n",
            "\n",
            "Epoch [26/50]\n"
          ]
        },
        {
          "output_type": "stream",
          "name": "stderr",
          "text": []
        },
        {
          "output_type": "stream",
          "name": "stdout",
          "text": [
            "Train Loss: 0.3343, Train Acc: 88.58%\n",
            "Val   Loss: 0.4024, Val   Acc: 86.52%\n",
            "\n",
            "Epoch [27/50]\n"
          ]
        },
        {
          "output_type": "stream",
          "name": "stderr",
          "text": []
        },
        {
          "output_type": "stream",
          "name": "stdout",
          "text": [
            "Train Loss: 0.3226, Train Acc: 89.00%\n",
            "Val   Loss: 0.4432, Val   Acc: 85.49%\n",
            "\n",
            "Epoch [28/50]\n"
          ]
        },
        {
          "output_type": "stream",
          "name": "stderr",
          "text": []
        },
        {
          "output_type": "stream",
          "name": "stdout",
          "text": [
            "Train Loss: 0.3168, Train Acc: 89.04%\n",
            "Val   Loss: 0.4026, Val   Acc: 86.41%\n",
            "\n",
            "Epoch [29/50]\n"
          ]
        },
        {
          "output_type": "stream",
          "name": "stderr",
          "text": []
        },
        {
          "output_type": "stream",
          "name": "stdout",
          "text": [
            "Train Loss: 0.3105, Train Acc: 89.48%\n",
            "Val   Loss: 0.3906, Val   Acc: 86.88%\n",
            "\n",
            "Epoch [30/50]\n"
          ]
        },
        {
          "output_type": "stream",
          "name": "stderr",
          "text": []
        },
        {
          "output_type": "stream",
          "name": "stdout",
          "text": [
            "Train Loss: 0.3040, Train Acc: 89.65%\n",
            "Val   Loss: 0.4177, Val   Acc: 86.32%\n",
            "\n",
            "Epoch [31/50]\n"
          ]
        },
        {
          "output_type": "stream",
          "name": "stderr",
          "text": []
        },
        {
          "output_type": "stream",
          "name": "stdout",
          "text": [
            "Train Loss: 0.2965, Train Acc: 89.75%\n",
            "Val   Loss: 0.4091, Val   Acc: 86.14%\n",
            "\n",
            "Epoch [32/50]\n"
          ]
        },
        {
          "output_type": "stream",
          "name": "stderr",
          "text": []
        },
        {
          "output_type": "stream",
          "name": "stdout",
          "text": [
            "Train Loss: 0.2911, Train Acc: 89.99%\n",
            "Val   Loss: 0.4194, Val   Acc: 86.10%\n",
            "\n",
            "Epoch [33/50]\n"
          ]
        },
        {
          "output_type": "stream",
          "name": "stderr",
          "text": []
        },
        {
          "output_type": "stream",
          "name": "stdout",
          "text": [
            "Train Loss: 0.2838, Train Acc: 90.30%\n",
            "Val   Loss: 0.4319, Val   Acc: 86.31%\n",
            "\n",
            "Epoch [34/50]\n"
          ]
        },
        {
          "output_type": "stream",
          "name": "stderr",
          "text": []
        },
        {
          "output_type": "stream",
          "name": "stdout",
          "text": [
            "Train Loss: 0.2781, Train Acc: 90.36%\n",
            "Val   Loss: 0.4300, Val   Acc: 86.13%\n",
            "\n",
            "Epoch [35/50]\n"
          ]
        },
        {
          "output_type": "stream",
          "name": "stderr",
          "text": []
        },
        {
          "output_type": "stream",
          "name": "stdout",
          "text": [
            "Train Loss: 0.2763, Train Acc: 90.46%\n",
            "Val   Loss: 0.3997, Val   Acc: 86.70%\n",
            "\n",
            "Epoch [36/50]\n"
          ]
        },
        {
          "output_type": "stream",
          "name": "stderr",
          "text": []
        },
        {
          "output_type": "stream",
          "name": "stdout",
          "text": [
            "Train Loss: 0.2696, Train Acc: 90.76%\n",
            "Val   Loss: 0.3851, Val   Acc: 87.17%\n",
            "\n",
            "Epoch [37/50]\n"
          ]
        },
        {
          "output_type": "stream",
          "name": "stderr",
          "text": []
        },
        {
          "output_type": "stream",
          "name": "stdout",
          "text": [
            "Train Loss: 0.2654, Train Acc: 91.02%\n",
            "Val   Loss: 0.4174, Val   Acc: 86.42%\n",
            "\n",
            "Epoch [38/50]\n"
          ]
        },
        {
          "output_type": "stream",
          "name": "stderr",
          "text": []
        },
        {
          "output_type": "stream",
          "name": "stdout",
          "text": [
            "Train Loss: 0.2666, Train Acc: 90.98%\n",
            "Val   Loss: 0.4215, Val   Acc: 86.20%\n",
            "\n",
            "Epoch [39/50]\n"
          ]
        },
        {
          "output_type": "stream",
          "name": "stderr",
          "text": []
        },
        {
          "output_type": "stream",
          "name": "stdout",
          "text": [
            "Train Loss: 0.2602, Train Acc: 91.14%\n",
            "Val   Loss: 0.3864, Val   Acc: 87.16%\n",
            "\n",
            "Epoch [40/50]\n"
          ]
        },
        {
          "output_type": "stream",
          "name": "stderr",
          "text": []
        },
        {
          "output_type": "stream",
          "name": "stdout",
          "text": [
            "Train Loss: 0.2513, Train Acc: 91.44%\n",
            "Val   Loss: 0.4185, Val   Acc: 86.43%\n",
            "\n",
            "Epoch [41/50]\n"
          ]
        },
        {
          "output_type": "stream",
          "name": "stderr",
          "text": []
        },
        {
          "output_type": "stream",
          "name": "stdout",
          "text": [
            "Train Loss: 0.2118, Train Acc: 92.89%\n",
            "Val   Loss: 0.3432, Val   Acc: 88.54%\n",
            "\n",
            "Epoch [42/50]\n"
          ]
        },
        {
          "output_type": "stream",
          "name": "stderr",
          "text": []
        },
        {
          "output_type": "stream",
          "name": "stdout",
          "text": [
            "Train Loss: 0.2036, Train Acc: 93.36%\n",
            "Val   Loss: 0.3397, Val   Acc: 88.71%\n",
            "\n",
            "Epoch [43/50]\n"
          ]
        },
        {
          "output_type": "stream",
          "name": "stderr",
          "text": []
        },
        {
          "output_type": "stream",
          "name": "stdout",
          "text": [
            "Train Loss: 0.1965, Train Acc: 93.57%\n",
            "Val   Loss: 0.3366, Val   Acc: 88.89%\n",
            "\n",
            "Epoch [44/50]\n"
          ]
        },
        {
          "output_type": "stream",
          "name": "stderr",
          "text": []
        },
        {
          "output_type": "stream",
          "name": "stdout",
          "text": [
            "Train Loss: 0.1940, Train Acc: 93.69%\n",
            "Val   Loss: 0.3351, Val   Acc: 88.93%\n",
            "\n",
            "Epoch [45/50]\n"
          ]
        },
        {
          "output_type": "stream",
          "name": "stderr",
          "text": []
        },
        {
          "output_type": "stream",
          "name": "stdout",
          "text": [
            "Train Loss: 0.1895, Train Acc: 93.75%\n",
            "Val   Loss: 0.3366, Val   Acc: 88.92%\n",
            "\n",
            "Epoch [46/50]\n"
          ]
        },
        {
          "output_type": "stream",
          "name": "stderr",
          "text": []
        },
        {
          "output_type": "stream",
          "name": "stdout",
          "text": [
            "Train Loss: 0.1871, Train Acc: 93.82%\n",
            "Val   Loss: 0.3350, Val   Acc: 89.10%\n",
            "\n",
            "Epoch [47/50]\n"
          ]
        },
        {
          "output_type": "stream",
          "name": "stderr",
          "text": []
        },
        {
          "output_type": "stream",
          "name": "stdout",
          "text": [
            "Train Loss: 0.1863, Train Acc: 93.87%\n",
            "Val   Loss: 0.3383, Val   Acc: 88.91%\n",
            "\n",
            "Epoch [48/50]\n"
          ]
        },
        {
          "output_type": "stream",
          "name": "stderr",
          "text": []
        },
        {
          "output_type": "stream",
          "name": "stdout",
          "text": [
            "Train Loss: 0.1807, Train Acc: 94.10%\n",
            "Val   Loss: 0.3383, Val   Acc: 88.77%\n",
            "\n",
            "Epoch [49/50]\n"
          ]
        },
        {
          "output_type": "stream",
          "name": "stderr",
          "text": []
        },
        {
          "output_type": "stream",
          "name": "stdout",
          "text": [
            "Train Loss: 0.1824, Train Acc: 93.96%\n",
            "Val   Loss: 0.3361, Val   Acc: 89.12%\n",
            "\n",
            "Epoch [50/50]\n"
          ]
        },
        {
          "output_type": "stream",
          "name": "stderr",
          "text": [
            "                                                            "
          ]
        },
        {
          "output_type": "stream",
          "name": "stdout",
          "text": [
            "Train Loss: 0.1771, Train Acc: 94.12%\n",
            "Val   Loss: 0.3389, Val   Acc: 89.06%\n"
          ]
        },
        {
          "output_type": "stream",
          "name": "stderr",
          "text": [
            "\r"
          ]
        }
      ]
    },
    {
      "cell_type": "code",
      "source": [
        "# ============================\n",
        "# 1. Initialize ResNet Model\n",
        "# ============================\n",
        "# Create an instance of our custom small ResNet (ResNetSmall).\n",
        "# `.to(device)` ensures the model is placed on the correct device:\n",
        "#   - GPU ('cuda') if available for faster training\n",
        "#   - CPU otherwise\n",
        "resnet_model = ResNetSmall().to(device)\n",
        "\n",
        "# ============================\n",
        "# 2. Train the ResNet Model\n",
        "# ============================\n",
        "# We now train ResNet using the same `train_model` function.\n",
        "# Parameters:\n",
        "#   - resnet_model: the ResNet architecture with skip connections\n",
        "#   - train_loader: batches of training data\n",
        "#   - test_loader: batches of test/validation data\n",
        "#   - device: specifies CPU or GPU for computation\n",
        "#   - epochs=50: train for 50 full passes through the training set\n",
        "#   - lr=0.1: learning rate for optimizer (controls step size in weight updates)\n",
        "#\n",
        "# Expected:\n",
        "#   - ResNet typically learns better than Plain CNN\n",
        "#   - Skip connections help gradients flow, reducing vanishing gradient issues\n",
        "#   - Training history (loss/accuracy) will be stored in `history_resnet`\n",
        "history_resnet = train_model(\n",
        "    resnet_model,\n",
        "    train_loader,\n",
        "    test_loader,\n",
        "    device,\n",
        "    epochs=50,\n",
        "    lr=0.1\n",
        ")\n"
      ],
      "metadata": {
        "colab": {
          "base_uri": "https://localhost:8080/"
        },
        "id": "S3ckYEFBl8I6",
        "outputId": "60b74ba6-60e5-48af-9967-33f76aba3c68"
      },
      "execution_count": 51,
      "outputs": [
        {
          "output_type": "stream",
          "name": "stdout",
          "text": [
            "\n",
            "Epoch [1/50]\n"
          ]
        },
        {
          "output_type": "stream",
          "name": "stderr",
          "text": []
        },
        {
          "output_type": "stream",
          "name": "stdout",
          "text": [
            "Train Loss: 1.7848, Train Acc: 34.88%\n",
            "Val   Loss: 1.5046, Val   Acc: 44.04%\n",
            "\n",
            "Epoch [2/50]\n"
          ]
        },
        {
          "output_type": "stream",
          "name": "stderr",
          "text": []
        },
        {
          "output_type": "stream",
          "name": "stdout",
          "text": [
            "Train Loss: 1.2756, Train Acc: 53.69%\n",
            "Val   Loss: 1.0727, Val   Acc: 61.67%\n",
            "\n",
            "Epoch [3/50]\n"
          ]
        },
        {
          "output_type": "stream",
          "name": "stderr",
          "text": []
        },
        {
          "output_type": "stream",
          "name": "stdout",
          "text": [
            "Train Loss: 0.9929, Train Acc: 64.62%\n",
            "Val   Loss: 0.9592, Val   Acc: 66.81%\n",
            "\n",
            "Epoch [4/50]\n"
          ]
        },
        {
          "output_type": "stream",
          "name": "stderr",
          "text": []
        },
        {
          "output_type": "stream",
          "name": "stdout",
          "text": [
            "Train Loss: 0.8472, Train Acc: 69.86%\n",
            "Val   Loss: 0.8875, Val   Acc: 69.69%\n",
            "\n",
            "Epoch [5/50]\n"
          ]
        },
        {
          "output_type": "stream",
          "name": "stderr",
          "text": []
        },
        {
          "output_type": "stream",
          "name": "stdout",
          "text": [
            "Train Loss: 0.7181, Train Acc: 75.01%\n",
            "Val   Loss: 0.7790, Val   Acc: 72.98%\n",
            "\n",
            "Epoch [6/50]\n"
          ]
        },
        {
          "output_type": "stream",
          "name": "stderr",
          "text": []
        },
        {
          "output_type": "stream",
          "name": "stdout",
          "text": [
            "Train Loss: 0.6325, Train Acc: 78.10%\n",
            "Val   Loss: 0.7545, Val   Acc: 73.81%\n",
            "\n",
            "Epoch [7/50]\n"
          ]
        },
        {
          "output_type": "stream",
          "name": "stderr",
          "text": []
        },
        {
          "output_type": "stream",
          "name": "stdout",
          "text": [
            "Train Loss: 0.5723, Train Acc: 80.48%\n",
            "Val   Loss: 0.7765, Val   Acc: 74.22%\n",
            "\n",
            "Epoch [8/50]\n"
          ]
        },
        {
          "output_type": "stream",
          "name": "stderr",
          "text": []
        },
        {
          "output_type": "stream",
          "name": "stdout",
          "text": [
            "Train Loss: 0.5359, Train Acc: 81.68%\n",
            "Val   Loss: 0.6288, Val   Acc: 78.91%\n",
            "\n",
            "Epoch [9/50]\n"
          ]
        },
        {
          "output_type": "stream",
          "name": "stderr",
          "text": []
        },
        {
          "output_type": "stream",
          "name": "stdout",
          "text": [
            "Train Loss: 0.5102, Train Acc: 82.56%\n",
            "Val   Loss: 0.7474, Val   Acc: 75.58%\n",
            "\n",
            "Epoch [10/50]\n"
          ]
        },
        {
          "output_type": "stream",
          "name": "stderr",
          "text": []
        },
        {
          "output_type": "stream",
          "name": "stdout",
          "text": [
            "Train Loss: 0.4870, Train Acc: 83.09%\n",
            "Val   Loss: 0.8514, Val   Acc: 72.26%\n",
            "\n",
            "Epoch [11/50]\n"
          ]
        },
        {
          "output_type": "stream",
          "name": "stderr",
          "text": []
        },
        {
          "output_type": "stream",
          "name": "stdout",
          "text": [
            "Train Loss: 0.4738, Train Acc: 83.71%\n",
            "Val   Loss: 0.5846, Val   Acc: 80.25%\n",
            "\n",
            "Epoch [12/50]\n"
          ]
        },
        {
          "output_type": "stream",
          "name": "stderr",
          "text": []
        },
        {
          "output_type": "stream",
          "name": "stdout",
          "text": [
            "Train Loss: 0.4601, Train Acc: 84.20%\n",
            "Val   Loss: 0.5226, Val   Acc: 82.34%\n",
            "\n",
            "Epoch [13/50]\n"
          ]
        },
        {
          "output_type": "stream",
          "name": "stderr",
          "text": []
        },
        {
          "output_type": "stream",
          "name": "stdout",
          "text": [
            "Train Loss: 0.4458, Train Acc: 84.70%\n",
            "Val   Loss: 0.6863, Val   Acc: 78.31%\n",
            "\n",
            "Epoch [14/50]\n"
          ]
        },
        {
          "output_type": "stream",
          "name": "stderr",
          "text": []
        },
        {
          "output_type": "stream",
          "name": "stdout",
          "text": [
            "Train Loss: 0.4291, Train Acc: 85.42%\n",
            "Val   Loss: 0.8041, Val   Acc: 73.65%\n",
            "\n",
            "Epoch [15/50]\n"
          ]
        },
        {
          "output_type": "stream",
          "name": "stderr",
          "text": []
        },
        {
          "output_type": "stream",
          "name": "stdout",
          "text": [
            "Train Loss: 0.4169, Train Acc: 85.73%\n",
            "Val   Loss: 0.6059, Val   Acc: 80.86%\n",
            "\n",
            "Epoch [16/50]\n"
          ]
        },
        {
          "output_type": "stream",
          "name": "stderr",
          "text": []
        },
        {
          "output_type": "stream",
          "name": "stdout",
          "text": [
            "Train Loss: 0.4152, Train Acc: 85.79%\n",
            "Val   Loss: 0.5624, Val   Acc: 81.92%\n",
            "\n",
            "Epoch [17/50]\n"
          ]
        },
        {
          "output_type": "stream",
          "name": "stderr",
          "text": []
        },
        {
          "output_type": "stream",
          "name": "stdout",
          "text": [
            "Train Loss: 0.4031, Train Acc: 86.14%\n",
            "Val   Loss: 0.5014, Val   Acc: 83.33%\n",
            "\n",
            "Epoch [18/50]\n"
          ]
        },
        {
          "output_type": "stream",
          "name": "stderr",
          "text": []
        },
        {
          "output_type": "stream",
          "name": "stdout",
          "text": [
            "Train Loss: 0.3969, Train Acc: 86.40%\n",
            "Val   Loss: 0.6691, Val   Acc: 79.00%\n",
            "\n",
            "Epoch [19/50]\n"
          ]
        },
        {
          "output_type": "stream",
          "name": "stderr",
          "text": []
        },
        {
          "output_type": "stream",
          "name": "stdout",
          "text": [
            "Train Loss: 0.3937, Train Acc: 86.52%\n",
            "Val   Loss: 0.7212, Val   Acc: 77.00%\n",
            "\n",
            "Epoch [20/50]\n"
          ]
        },
        {
          "output_type": "stream",
          "name": "stderr",
          "text": []
        },
        {
          "output_type": "stream",
          "name": "stdout",
          "text": [
            "Train Loss: 0.3883, Train Acc: 86.81%\n",
            "Val   Loss: 0.5025, Val   Acc: 83.44%\n",
            "\n",
            "Epoch [21/50]\n"
          ]
        },
        {
          "output_type": "stream",
          "name": "stderr",
          "text": []
        },
        {
          "output_type": "stream",
          "name": "stdout",
          "text": [
            "Train Loss: 0.2304, Train Acc: 92.25%\n",
            "Val   Loss: 0.2538, Val   Acc: 91.30%\n",
            "\n",
            "Epoch [22/50]\n"
          ]
        },
        {
          "output_type": "stream",
          "name": "stderr",
          "text": []
        },
        {
          "output_type": "stream",
          "name": "stdout",
          "text": [
            "Train Loss: 0.1777, Train Acc: 93.93%\n",
            "Val   Loss: 0.2455, Val   Acc: 91.85%\n",
            "\n",
            "Epoch [23/50]\n"
          ]
        },
        {
          "output_type": "stream",
          "name": "stderr",
          "text": []
        },
        {
          "output_type": "stream",
          "name": "stdout",
          "text": [
            "Train Loss: 0.1535, Train Acc: 94.94%\n",
            "Val   Loss: 0.2360, Val   Acc: 92.17%\n",
            "\n",
            "Epoch [24/50]\n"
          ]
        },
        {
          "output_type": "stream",
          "name": "stderr",
          "text": []
        },
        {
          "output_type": "stream",
          "name": "stdout",
          "text": [
            "Train Loss: 0.1388, Train Acc: 95.29%\n",
            "Val   Loss: 0.2341, Val   Acc: 92.05%\n",
            "\n",
            "Epoch [25/50]\n"
          ]
        },
        {
          "output_type": "stream",
          "name": "stderr",
          "text": []
        },
        {
          "output_type": "stream",
          "name": "stdout",
          "text": [
            "Train Loss: 0.1262, Train Acc: 95.72%\n",
            "Val   Loss: 0.2481, Val   Acc: 91.98%\n",
            "\n",
            "Epoch [26/50]\n"
          ]
        },
        {
          "output_type": "stream",
          "name": "stderr",
          "text": []
        },
        {
          "output_type": "stream",
          "name": "stdout",
          "text": [
            "Train Loss: 0.1157, Train Acc: 96.04%\n",
            "Val   Loss: 0.2483, Val   Acc: 92.21%\n",
            "\n",
            "Epoch [27/50]\n"
          ]
        },
        {
          "output_type": "stream",
          "name": "stderr",
          "text": []
        },
        {
          "output_type": "stream",
          "name": "stdout",
          "text": [
            "Train Loss: 0.1056, Train Acc: 96.42%\n",
            "Val   Loss: 0.2417, Val   Acc: 92.26%\n",
            "\n",
            "Epoch [28/50]\n"
          ]
        },
        {
          "output_type": "stream",
          "name": "stderr",
          "text": []
        },
        {
          "output_type": "stream",
          "name": "stdout",
          "text": [
            "Train Loss: 0.1002, Train Acc: 96.62%\n",
            "Val   Loss: 0.2507, Val   Acc: 92.21%\n",
            "\n",
            "Epoch [29/50]\n"
          ]
        },
        {
          "output_type": "stream",
          "name": "stderr",
          "text": []
        },
        {
          "output_type": "stream",
          "name": "stdout",
          "text": [
            "Train Loss: 0.0895, Train Acc: 97.02%\n",
            "Val   Loss: 0.2407, Val   Acc: 92.45%\n",
            "\n",
            "Epoch [30/50]\n"
          ]
        },
        {
          "output_type": "stream",
          "name": "stderr",
          "text": []
        },
        {
          "output_type": "stream",
          "name": "stdout",
          "text": [
            "Train Loss: 0.0835, Train Acc: 97.18%\n",
            "Val   Loss: 0.2485, Val   Acc: 92.47%\n",
            "\n",
            "Epoch [31/50]\n"
          ]
        },
        {
          "output_type": "stream",
          "name": "stderr",
          "text": []
        },
        {
          "output_type": "stream",
          "name": "stdout",
          "text": [
            "Train Loss: 0.0763, Train Acc: 97.44%\n",
            "Val   Loss: 0.2525, Val   Acc: 92.42%\n",
            "\n",
            "Epoch [32/50]\n"
          ]
        },
        {
          "output_type": "stream",
          "name": "stderr",
          "text": []
        },
        {
          "output_type": "stream",
          "name": "stdout",
          "text": [
            "Train Loss: 0.0754, Train Acc: 97.47%\n",
            "Val   Loss: 0.2655, Val   Acc: 92.04%\n",
            "\n",
            "Epoch [33/50]\n"
          ]
        },
        {
          "output_type": "stream",
          "name": "stderr",
          "text": []
        },
        {
          "output_type": "stream",
          "name": "stdout",
          "text": [
            "Train Loss: 0.0705, Train Acc: 97.61%\n",
            "Val   Loss: 0.2552, Val   Acc: 92.36%\n",
            "\n",
            "Epoch [34/50]\n"
          ]
        },
        {
          "output_type": "stream",
          "name": "stderr",
          "text": []
        },
        {
          "output_type": "stream",
          "name": "stdout",
          "text": [
            "Train Loss: 0.0675, Train Acc: 97.66%\n",
            "Val   Loss: 0.2732, Val   Acc: 91.91%\n",
            "\n",
            "Epoch [35/50]\n"
          ]
        },
        {
          "output_type": "stream",
          "name": "stderr",
          "text": []
        },
        {
          "output_type": "stream",
          "name": "stdout",
          "text": [
            "Train Loss: 0.0683, Train Acc: 97.70%\n",
            "Val   Loss: 0.2476, Val   Acc: 92.58%\n",
            "\n",
            "Epoch [36/50]\n"
          ]
        },
        {
          "output_type": "stream",
          "name": "stderr",
          "text": []
        },
        {
          "output_type": "stream",
          "name": "stdout",
          "text": [
            "Train Loss: 0.0649, Train Acc: 97.78%\n",
            "Val   Loss: 0.2605, Val   Acc: 92.34%\n",
            "\n",
            "Epoch [37/50]\n"
          ]
        },
        {
          "output_type": "stream",
          "name": "stderr",
          "text": []
        },
        {
          "output_type": "stream",
          "name": "stdout",
          "text": [
            "Train Loss: 0.0613, Train Acc: 97.96%\n",
            "Val   Loss: 0.2973, Val   Acc: 91.75%\n",
            "\n",
            "Epoch [38/50]\n"
          ]
        },
        {
          "output_type": "stream",
          "name": "stderr",
          "text": []
        },
        {
          "output_type": "stream",
          "name": "stdout",
          "text": [
            "Train Loss: 0.0622, Train Acc: 97.90%\n",
            "Val   Loss: 0.3530, Val   Acc: 90.23%\n",
            "\n",
            "Epoch [39/50]\n"
          ]
        },
        {
          "output_type": "stream",
          "name": "stderr",
          "text": []
        },
        {
          "output_type": "stream",
          "name": "stdout",
          "text": [
            "Train Loss: 0.0609, Train Acc: 97.93%\n",
            "Val   Loss: 0.2540, Val   Acc: 92.86%\n",
            "\n",
            "Epoch [40/50]\n"
          ]
        },
        {
          "output_type": "stream",
          "name": "stderr",
          "text": []
        },
        {
          "output_type": "stream",
          "name": "stdout",
          "text": [
            "Train Loss: 0.0573, Train Acc: 98.09%\n",
            "Val   Loss: 0.2666, Val   Acc: 92.24%\n",
            "\n",
            "Epoch [41/50]\n"
          ]
        },
        {
          "output_type": "stream",
          "name": "stderr",
          "text": []
        },
        {
          "output_type": "stream",
          "name": "stdout",
          "text": [
            "Train Loss: 0.0346, Train Acc: 98.96%\n",
            "Val   Loss: 0.2261, Val   Acc: 93.44%\n",
            "\n",
            "Epoch [42/50]\n"
          ]
        },
        {
          "output_type": "stream",
          "name": "stderr",
          "text": []
        },
        {
          "output_type": "stream",
          "name": "stdout",
          "text": [
            "Train Loss: 0.0258, Train Acc: 99.30%\n",
            "Val   Loss: 0.2240, Val   Acc: 93.50%\n",
            "\n",
            "Epoch [43/50]\n"
          ]
        },
        {
          "output_type": "stream",
          "name": "stderr",
          "text": []
        },
        {
          "output_type": "stream",
          "name": "stdout",
          "text": [
            "Train Loss: 0.0199, Train Acc: 99.48%\n",
            "Val   Loss: 0.2241, Val   Acc: 93.53%\n",
            "\n",
            "Epoch [44/50]\n"
          ]
        },
        {
          "output_type": "stream",
          "name": "stderr",
          "text": []
        },
        {
          "output_type": "stream",
          "name": "stdout",
          "text": [
            "Train Loss: 0.0186, Train Acc: 99.54%\n",
            "Val   Loss: 0.2236, Val   Acc: 93.57%\n",
            "\n",
            "Epoch [45/50]\n"
          ]
        },
        {
          "output_type": "stream",
          "name": "stderr",
          "text": []
        },
        {
          "output_type": "stream",
          "name": "stdout",
          "text": [
            "Train Loss: 0.0173, Train Acc: 99.57%\n",
            "Val   Loss: 0.2263, Val   Acc: 93.62%\n",
            "\n",
            "Epoch [46/50]\n"
          ]
        },
        {
          "output_type": "stream",
          "name": "stderr",
          "text": []
        },
        {
          "output_type": "stream",
          "name": "stdout",
          "text": [
            "Train Loss: 0.0157, Train Acc: 99.61%\n",
            "Val   Loss: 0.2261, Val   Acc: 93.54%\n",
            "\n",
            "Epoch [47/50]\n"
          ]
        },
        {
          "output_type": "stream",
          "name": "stderr",
          "text": []
        },
        {
          "output_type": "stream",
          "name": "stdout",
          "text": [
            "Train Loss: 0.0143, Train Acc: 99.69%\n",
            "Val   Loss: 0.2248, Val   Acc: 93.67%\n",
            "\n",
            "Epoch [48/50]\n"
          ]
        },
        {
          "output_type": "stream",
          "name": "stderr",
          "text": []
        },
        {
          "output_type": "stream",
          "name": "stdout",
          "text": [
            "Train Loss: 0.0142, Train Acc: 99.68%\n",
            "Val   Loss: 0.2260, Val   Acc: 93.68%\n",
            "\n",
            "Epoch [49/50]\n"
          ]
        },
        {
          "output_type": "stream",
          "name": "stderr",
          "text": []
        },
        {
          "output_type": "stream",
          "name": "stdout",
          "text": [
            "Train Loss: 0.0128, Train Acc: 99.75%\n",
            "Val   Loss: 0.2265, Val   Acc: 93.62%\n",
            "\n",
            "Epoch [50/50]\n"
          ]
        },
        {
          "output_type": "stream",
          "name": "stderr",
          "text": [
            "                                                            "
          ]
        },
        {
          "output_type": "stream",
          "name": "stdout",
          "text": [
            "Train Loss: 0.0126, Train Acc: 99.73%\n",
            "Val   Loss: 0.2290, Val   Acc: 93.70%\n"
          ]
        },
        {
          "output_type": "stream",
          "name": "stderr",
          "text": [
            "\r"
          ]
        }
      ]
    },
    {
      "cell_type": "code",
      "source": [
        "def plot_training_curves(history_plain, history_resnet):\n",
        "    \"\"\"\n",
        "    Plot training and validation curves for Plain CNN vs ResNet models.\n",
        "\n",
        "    Args:\n",
        "        history_plain (dict): Contains training/validation loss & accuracy for Plain CNN\n",
        "        history_resnet (dict): Contains training/validation loss & accuracy for ResNet\n",
        "    \"\"\"\n",
        "\n",
        "    # X-axis: Epoch numbers (1 → N)\n",
        "    epochs = range(1, len(history_plain[\"train_loss\"]) + 1)\n",
        "\n",
        "    # ==========================\n",
        "    # 1. Plot Training & Validation Loss\n",
        "    # ==========================\n",
        "    plt.figure(figsize=(12, 5))  # create a wide figure with 2 subplots\n",
        "\n",
        "    # --- Left subplot: Loss ---\n",
        "    plt.subplot(1, 2, 1)\n",
        "    plt.plot(epochs, history_plain[\"train_loss\"], label=\"Plain CNN - Train Loss\")\n",
        "    plt.plot(epochs, history_plain[\"val_loss\"], label=\"Plain CNN - Val Loss\")\n",
        "    plt.plot(epochs, history_resnet[\"train_loss\"], label=\"ResNet - Train Loss\")\n",
        "    plt.plot(epochs, history_resnet[\"val_loss\"], label=\"ResNet - Val Loss\")\n",
        "    plt.xlabel(\"Epochs\")                # label for x-axis\n",
        "    plt.ylabel(\"Loss\")                  # label for y-axis\n",
        "    plt.title(\"Training vs Validation Loss\")  # subplot title\n",
        "    plt.legend()                        # show legend to distinguish models\n",
        "    plt.grid(True)                      # enable grid for clarity\n",
        "\n",
        "    # ==========================\n",
        "    # 2. Plot Training & Validation Accuracy\n",
        "    # ==========================\n",
        "    # --- Right subplot: Accuracy ---\n",
        "    plt.subplot(1, 2, 2)\n",
        "    plt.plot(epochs, history_plain[\"train_acc\"], label=\"Plain CNN - Train Acc\")\n",
        "    plt.plot(epochs, history_plain[\"val_acc\"], label=\"Plain CNN - Val Acc\")\n",
        "    plt.plot(epochs, history_resnet[\"train_acc\"], label=\"ResNet - Train Acc\")\n",
        "    plt.plot(epochs, history_resnet[\"val_acc\"], label=\"ResNet - Val Acc\")\n",
        "    plt.xlabel(\"Epochs\")                       # label for x-axis\n",
        "    plt.ylabel(\"Accuracy (%)\")                 # label for y-axis\n",
        "    plt.title(\"Training vs Validation Accuracy\")  # subplot title\n",
        "    plt.legend()                               # legend to compare models\n",
        "    plt.grid(True)                             # enable grid\n",
        "\n",
        "    # ==========================\n",
        "    # 3. Final Layout Adjustment\n",
        "    # ==========================\n",
        "    plt.tight_layout()  # adjust spacing between subplots for readability\n",
        "    plt.show()          # display the figure\n",
        "\n",
        "plot_training_curves(history_plain, history_resnet)\n"
      ],
      "metadata": {
        "id": "2lMRX9D234w2",
        "colab": {
          "base_uri": "https://localhost:8080/",
          "height": 507
        },
        "outputId": "5b36e88f-ff92-4f56-bbc0-2ca07ac4b523"
      },
      "execution_count": 53,
      "outputs": [
        {
          "output_type": "display_data",
          "data": {
            "text/plain": [
              "<Figure size 1200x500 with 2 Axes>"
            ],
            "image/png": "[encoded data removed]"
          },
          "metadata": {}
        }
      ]
    },
    {
      "cell_type": "code",
      "source": [
        "# ==========================\n",
        "# 1. Print Final Validation Results\n",
        "# ==========================\n",
        "def compare_results(history_plain, history_resnet):\n",
        "    \"\"\"\n",
        "    Compare the final validation accuracy of Plain CNN and ResNet models.\n",
        "\n",
        "    Args:\n",
        "        history_plain (dict): Training history dictionary for Plain CNN\n",
        "        history_resnet (dict): Training history dictionary for ResNet\n",
        "    \"\"\"\n",
        "\n",
        "    # Extract the last recorded validation accuracy for each model\n",
        "    plain_final_acc = history_plain[\"val_acc\"][-1]\n",
        "    resnet_final_acc = history_resnet[\"val_acc\"][-1]\n",
        "\n",
        "    # Print side-by-side comparison\n",
        "    print(\"===== Final Validation Accuracy =====\")\n",
        "    print(f\"Plain CNN : {plain_final_acc:.2f}%\")\n",
        "    print(f\"ResNet    : {resnet_final_acc:.2f}%\")\n",
        "\n",
        "    # Highlight which model performs better\n",
        "    if resnet_final_acc > plain_final_acc:\n",
        "        print(\"\\n✅ ResNet performs better (higher accuracy, better convergence).\")\n",
        "    else:\n",
        "        print(\"\\n⚠️ Plain CNN surprisingly matched or outperformed ResNet. \"\n",
        "              \"Consider tuning hyperparameters or training longer.\")\n",
        "\n",
        "\n",
        "# ==========================\n",
        "# 2. Confusion Matrix Plot\n",
        "# ==========================\n",
        "def plot_confusion_matrix(model, dataloader, device, classes):\n",
        "    \"\"\"\n",
        "    Generate and display the confusion matrix for a trained model.\n",
        "\n",
        "    Args:\n",
        "        model (torch.nn.Module): Trained model (Plain CNN or ResNet)\n",
        "        dataloader (DataLoader): DataLoader for test/validation dataset\n",
        "        device (torch.device): 'cuda' or 'cpu' device for inference\n",
        "        classes (list): List of class names for CIFAR-10\n",
        "    \"\"\"\n",
        "\n",
        "    # Put the model in evaluation mode (disables dropout, batch norm updates)\n",
        "    model.eval()\n",
        "\n",
        "    # Containers for predictions and ground-truth labels\n",
        "    all_preds, all_labels = [], []\n",
        "\n",
        "    # Disable gradient calculations (saves memory & computation during inference)\n",
        "    with torch.no_grad():\n",
        "        for inputs, labels in dataloader:\n",
        "            # Move inputs and labels to GPU/CPU\n",
        "            inputs, labels = inputs.to(device), labels.to(device)\n",
        "\n",
        "            # Forward pass\n",
        "            outputs = model(inputs)\n",
        "\n",
        "            # Get the predicted class (index with max probability)\n",
        "            _, preds = outputs.max(1)\n",
        "\n",
        "            # Collect predictions & labels into Python lists\n",
        "            all_preds.extend(preds.cpu().numpy())\n",
        "            all_labels.extend(labels.cpu().numpy())\n",
        "\n",
        "    # Compute confusion matrix\n",
        "    cm = confusion_matrix(all_labels, all_preds)\n",
        "\n",
        "    # Create a ConfusionMatrixDisplay object for visualization\n",
        "    disp = ConfusionMatrixDisplay(confusion_matrix=cm, display_labels=classes)\n",
        "\n",
        "    # Plot confusion matrix with blue color map\n",
        "    fig, ax = plt.subplots(figsize=(8, 8))\n",
        "    disp.plot(ax=ax, cmap=\"Blues\", xticks_rotation=45)\n",
        "\n",
        "    # Add a descriptive title\n",
        "    plt.title(\"Confusion Matrix\")\n",
        "    plt.show()\n"
      ],
      "metadata": {
        "id": "7gF7gpUY34y-"
      },
      "execution_count": 54,
      "outputs": []
    },
    {
      "cell_type": "code",
      "source": [
        "# ==========================\n",
        "# 1. Define CIFAR-10 Class Labels\n",
        "# ==========================\n",
        "classes = (\n",
        "    'plane', 'car', 'bird', 'cat', 'deer',\n",
        "    'dog', 'frog', 'horse', 'ship', 'truck'\n",
        ")\n",
        "# These labels correspond to the CIFAR-10 dataset classes in order (0–9).\n",
        "\n",
        "\n",
        "# ==========================\n",
        "# 2. Re-create Test DataLoader\n",
        "# ==========================\n",
        "# We re-define `test_loader` here to ensure it's available in this cell.\n",
        "# Using the same `CIFARDataset` class and `transform_test` defined earlier.\n",
        "\n",
        "test_dataset = CIFARDataset(X_test, Y_test, transform=transform_test)\n",
        "\n",
        "# DataLoader wraps the dataset into mini-batches for efficient iteration.\n",
        "# - batch_size=100 → processes 100 test images at once\n",
        "# - shuffle=False  → order does not matter for evaluation\n",
        "# - num_workers=2  → parallel data loading with 2 worker threads\n",
        "test_loader = DataLoader(test_dataset, batch_size=100, shuffle=False, num_workers=2)\n",
        "\n",
        "\n",
        "# ==========================\n",
        "# 3. Compare Final Model Accuracies\n",
        "# ==========================\n",
        "# This will print the final validation accuracy of both models\n",
        "# (Plain CNN vs ResNet) using results from the training history.\n",
        "compare_results(history_plain, history_resnet)\n",
        "\n",
        "\n",
        "# ==========================\n",
        "# 4. Plot Confusion Matrices\n",
        "# ==========================\n",
        "# A confusion matrix shows where the model makes mistakes:\n",
        "# - Rows: Actual (true) labels\n",
        "# - Columns: Predicted labels\n",
        "\n",
        "print(\"\\nPlain CNN Confusion Matrix:\")\n",
        "plot_confusion_matrix(plain_model, test_loader, device, classes)\n",
        "\n",
        "print(\"\\nResNet Confusion Matrix:\")\n",
        "plot_confusion_matrix(resnet_model, test_loader, device, classes)\n"
      ],
      "metadata": {
        "id": "J90kDoir342e",
        "colab": {
          "base_uri": "https://localhost:8080/",
          "height": 1000
        },
        "outputId": "e78c902b-90bd-4e43-d32c-805bd335430a"
      },
      "execution_count": 55,
      "outputs": [
        {
          "output_type": "stream",
          "name": "stdout",
          "text": [
            "===== Final Validation Accuracy =====\n",
            "Plain CNN : 89.06%\n",
            "ResNet    : 93.70%\n",
            "\n",
            "✅ ResNet performs better (higher accuracy, better convergence).\n",
            "\n",
            "Plain CNN Confusion Matrix:\n"
          ]
        },
        {
          "output_type": "display_data",
          "data": {
            "text/plain": [
              "<Figure size 800x800 with 2 Axes>"
            ],
            "image/png": "[encoded data removed]"
          },
          "metadata": {}
        },
        {
          "output_type": "stream",
          "name": "stdout",
          "text": [
            "\n",
            "ResNet Confusion Matrix:\n"
          ]
        },
        {
          "output_type": "display_data",
          "data": {
            "text/plain": [
              "<Figure size 800x800 with 2 Axes>"
            ],
            "image/png": "[encoded data removed]"
          },
          "metadata": {}
        }
      ]
    }
  ]
}